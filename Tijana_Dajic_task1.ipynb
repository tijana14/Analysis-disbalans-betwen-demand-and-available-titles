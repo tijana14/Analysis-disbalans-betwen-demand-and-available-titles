{
 "cells": [
  {
   "cell_type": "markdown",
   "id": "d35ab210",
   "metadata": {},
   "source": [
    "# Analysis: Disbalans between demand and available titles\n",
    "## **Author** : Tijana Dajic"
   ]
  },
  {
   "cell_type": "markdown",
   "id": "9e53bcd0",
   "metadata": {},
   "source": [
    "## Goal\n",
    "Goal is to calculate disbalans between demand and available titles so we could advise the library how to processed in the future."
   ]
  },
  {
   "cell_type": "markdown",
   "id": "e2130342",
   "metadata": {},
   "source": [
    "## Step 1: Load the data\n",
    "First we will load the data so we could do the analysis."
   ]
  },
  {
   "cell_type": "code",
   "execution_count": 5,
   "id": "9e836d91",
   "metadata": {},
   "outputs": [],
   "source": [
    "import pandas as pd\n",
    "df = pd.read_csv('books.csv', encoding='latin1')"
   ]
  },
  {
   "cell_type": "markdown",
   "id": "8247fd26",
   "metadata": {},
   "source": [
    "## Step 2: Group sections\n",
    "Here we will group all the sections by title and how many times did they get borrowed."
   ]
  },
  {
   "cell_type": "code",
   "execution_count": 6,
   "id": "6265d6aa",
   "metadata": {},
   "outputs": [],
   "source": [
    "inventory_gap = df.groupby('section').agg({\n",
    "'title': 'count',\n",
    "'times_borrowed': 'sum'\n",
    "})"
   ]
  },
  {
   "cell_type": "markdown",
   "id": "46ae2aec",
   "metadata": {},
   "source": [
    "## Step 3: Calaculate\n",
    "Now we will calculate dissbalans."
   ]
  },
  {
   "cell_type": "code",
   "execution_count": 7,
   "id": "4dbc2f37",
   "metadata": {},
   "outputs": [],
   "source": [
    "inventory_gap['titles_to_borrow_ratio'] = inventory_gap['times_borrowed'] / inventory_gap['title']\n"
   ]
  },
  {
   "cell_type": "markdown",
   "id": "c90bd1a2",
   "metadata": {},
   "source": [
    "## Step 4: Sort and print\n",
    "In the final step we will sort our result and print them so we could see them clearly."
   ]
  },
  {
   "cell_type": "code",
   "execution_count": 8,
   "id": "2e3a65ae",
   "metadata": {},
   "outputs": [
    {
     "data": {
      "text/html": [
       "<div>\n",
       "<style scoped>\n",
       "    .dataframe tbody tr th:only-of-type {\n",
       "        vertical-align: middle;\n",
       "    }\n",
       "\n",
       "    .dataframe tbody tr th {\n",
       "        vertical-align: top;\n",
       "    }\n",
       "\n",
       "    .dataframe thead th {\n",
       "        text-align: right;\n",
       "    }\n",
       "</style>\n",
       "<table border=\"1\" class=\"dataframe\">\n",
       "  <thead>\n",
       "    <tr style=\"text-align: right;\">\n",
       "      <th></th>\n",
       "      <th>title</th>\n",
       "      <th>times_borrowed</th>\n",
       "      <th>titles_to_borrow_ratio</th>\n",
       "    </tr>\n",
       "    <tr>\n",
       "      <th>section</th>\n",
       "      <th></th>\n",
       "      <th></th>\n",
       "      <th></th>\n",
       "    </tr>\n",
       "  </thead>\n",
       "  <tbody>\n",
       "    <tr>\n",
       "      <th>Young Adult (YA)</th>\n",
       "      <td>48</td>\n",
       "      <td>10184.0</td>\n",
       "      <td>212.166667</td>\n",
       "    </tr>\n",
       "    <tr>\n",
       "      <th>Young Adult</th>\n",
       "      <td>20</td>\n",
       "      <td>3448.0</td>\n",
       "      <td>172.400000</td>\n",
       "    </tr>\n",
       "    <tr>\n",
       "      <th>Non-Fiction</th>\n",
       "      <td>215</td>\n",
       "      <td>21595.0</td>\n",
       "      <td>100.441860</td>\n",
       "    </tr>\n",
       "    <tr>\n",
       "      <th>Fiction</th>\n",
       "      <td>1148</td>\n",
       "      <td>48570.0</td>\n",
       "      <td>42.308362</td>\n",
       "    </tr>\n",
       "    <tr>\n",
       "      <th>Science</th>\n",
       "      <td>28</td>\n",
       "      <td>992.0</td>\n",
       "      <td>35.428571</td>\n",
       "    </tr>\n",
       "    <tr>\n",
       "      <th>Children</th>\n",
       "      <td>212</td>\n",
       "      <td>5753.0</td>\n",
       "      <td>27.136792</td>\n",
       "    </tr>\n",
       "    <tr>\n",
       "      <th>Children's</th>\n",
       "      <td>23</td>\n",
       "      <td>478.0</td>\n",
       "      <td>20.782609</td>\n",
       "    </tr>\n",
       "    <tr>\n",
       "      <th>Reference</th>\n",
       "      <td>52</td>\n",
       "      <td>718.0</td>\n",
       "      <td>13.807692</td>\n",
       "    </tr>\n",
       "    <tr>\n",
       "      <th>History</th>\n",
       "      <td>39</td>\n",
       "      <td>522.0</td>\n",
       "      <td>13.384615</td>\n",
       "    </tr>\n",
       "    <tr>\n",
       "      <th>Humanities</th>\n",
       "      <td>234</td>\n",
       "      <td>899.0</td>\n",
       "      <td>3.841880</td>\n",
       "    </tr>\n",
       "    <tr>\n",
       "      <th>Children's Fiction</th>\n",
       "      <td>1</td>\n",
       "      <td>2.0</td>\n",
       "      <td>2.000000</td>\n",
       "    </tr>\n",
       "    <tr>\n",
       "      <th>Rare Books</th>\n",
       "      <td>12</td>\n",
       "      <td>0.0</td>\n",
       "      <td>0.000000</td>\n",
       "    </tr>\n",
       "  </tbody>\n",
       "</table>\n",
       "</div>"
      ],
      "text/plain": [
       "                    title  times_borrowed  titles_to_borrow_ratio\n",
       "section                                                          \n",
       "Young Adult (YA)       48         10184.0              212.166667\n",
       "Young Adult            20          3448.0              172.400000\n",
       "Non-Fiction           215         21595.0              100.441860\n",
       "Fiction              1148         48570.0               42.308362\n",
       "Science                28           992.0               35.428571\n",
       "Children              212          5753.0               27.136792\n",
       "Children's             23           478.0               20.782609\n",
       "Reference              52           718.0               13.807692\n",
       "History                39           522.0               13.384615\n",
       "Humanities            234           899.0                3.841880\n",
       "Children's Fiction      1             2.0                2.000000\n",
       "Rare Books             12             0.0                0.000000"
      ]
     },
     "execution_count": 8,
     "metadata": {},
     "output_type": "execute_result"
    }
   ],
   "source": [
    "inventory_gap.sort_values(by=['titles_to_borrow_ratio'], ascending=False)"
   ]
  },
  {
   "cell_type": "markdown",
   "id": "022e28e8",
   "metadata": {},
   "source": [
    "## Conclusion\n",
    "We can conclude that sections \n",
    "- Young Adult(YA), \n",
    "- Young Adult,\n",
    "-  Non-Fiction \n",
    "has the bigest dissbalans betwen titles and how many times did get borrowed. \n"
   ]
  },
  {
   "cell_type": "markdown",
   "id": "c53e3a69",
   "metadata": {},
   "source": [
    "## Advise\n",
    "Be advise to include more of this titles in your offer so you could fulfill demands."
   ]
  }
 ],
 "metadata": {
  "kernelspec": {
   "display_name": "Python 3",
   "language": "python",
   "name": "python3"
  },
  "language_info": {
   "codemirror_mode": {
    "name": "ipython",
    "version": 3
   },
   "file_extension": ".py",
   "mimetype": "text/x-python",
   "name": "python",
   "nbconvert_exporter": "python",
   "pygments_lexer": "ipython3",
   "version": "3.13.0"
  }
 },
 "nbformat": 4,
 "nbformat_minor": 5
}
